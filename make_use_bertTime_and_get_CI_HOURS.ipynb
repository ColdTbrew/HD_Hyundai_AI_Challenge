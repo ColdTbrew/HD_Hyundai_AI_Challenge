{
 "cells": [
  {
   "cell_type": "markdown",
   "id": "42894f8a-3ce2-4c9b-a17b-976b53eb3971",
   "metadata": {},
   "source": [
    "# train셋의 Bert_time을 이용하여 test셋에서 기후가 일치하는 Bert_time을 이용해 가능한 CI_HOUR를 계산"
   ]
  },
  {
   "cell_type": "code",
   "execution_count": null,
   "id": "ad1cea2f-67d8-49c7-9f1c-3b27a7b533b4",
   "metadata": {},
   "outputs": [],
   "source": [
    "import warnings\n",
    "warnings.filterwarnings('ignore')\n",
    "import pandas as pd\n",
    "import numpy as np\n",
    "from multiprocessing import Pool, cpu_count\n",
    "import bisect\n",
    "%matplotlib inline"
   ]
  },
  {
   "cell_type": "code",
   "execution_count": null,
   "id": "fd623dd9-d88f-4380-965d-a4cfd838c67d",
   "metadata": {},
   "outputs": [],
   "source": [
    "train = pd.read_csv('./data/train.csv')"
   ]
  },
  {
   "cell_type": "markdown",
   "id": "7a5243d7-3122-4cb1-a84c-10a041c7ff2b",
   "metadata": {},
   "source": [
    "### small_train 만드는 과정"
   ]
  },
  {
   "cell_type": "code",
   "execution_count": null,
   "id": "c1e3041a-bf90-4131-bf14-2f2e642baa2a",
   "metadata": {},
   "outputs": [],
   "source": [
    "small_train = train[['ARI_CO', 'ARI_PO', 'U_WIND', 'V_WIND', 'BN', 'AIR_TEMPERATURE','ATA','CI_HOUR']].copy()\n",
    "# 결측치 제거\n",
    "columns_to_check = ['U_WIND', 'V_WIND', 'BN', 'AIR_TEMPERATURE']\n",
    "small_train = small_train.dropna(subset=columns_to_check)\n",
    "\n",
    "# Bert_time 열 만들기 ('ATA' + 'CI_HOUR')\n",
    "small_train['ATA'] = pd.to_datetime( small_train['ATA'])\n",
    "small_train['CI_HOUR'] = pd.to_timedelta(small_train['CI_HOUR'], unit=\"hours\")\n",
    "small_train['Bert_time'] = small_train['ATA'] + small_train['CI_HOUR']\n",
    "small_train.drop(columns='ATA', inplace=True)\n",
    "small_train.drop(columns='CI_HOUR', inplace=True)\n",
    "small_train"
   ]
  },
  {
   "cell_type": "markdown",
   "id": "521073ea-5de4-49d6-9cdb-3a19cd8d86ba",
   "metadata": {},
   "source": [
    "## 병렬 처리를 이용해 기후 6열이 일치하는 Bert_time을 구하여 CI_HOUR를 계산하고 리스트에 저장"
   ]
  },
  {
   "cell_type": "code",
   "execution_count": 4,
   "id": "6fa37d61-0f7a-4575-bacf-badcab51f7e6",
   "metadata": {},
   "outputs": [],
   "source": [
    "test = pd.read_csv('./data/test.csv')\n",
    "test['ATA'] = pd.to_datetime(test['ATA'])\n",
    "\n",
    "# 일치하는 열을 사용하기 위해 필요한 컬럼 리스트 생성\n",
    "columns_to_match = ['ARI_CO', 'ARI_PO', 'U_WIND', 'V_WIND', 'BN', 'AIR_TEMPERATURE']"
   ]
  },
  {
   "cell_type": "code",
   "execution_count": 5,
   "id": "7ed6b065",
   "metadata": {},
   "outputs": [],
   "source": [
    "def pad_float_fixed_length(x, total_length=10, decimals=6):\n",
    "    format_str = \"{:0\" + str(total_length) + \".\" + str(decimals) + \"f}\"\n",
    "    return format_str.format(x)\n",
    "\n",
    "# 숫자를 일정한 길이의 문자열로 변환\n",
    "for col in columns_to_match:\n",
    "    if small_train[col].dtype in [np.float64, np.int64]:  # dtype을 numpy의 dtype으로 비교\n",
    "        small_train[col] = small_train[col].apply(lambda x: pad_float_fixed_length(x))\n",
    "    if test[col].dtype in [np.float64, np.int64]:\n",
    "        test[col] = test[col].apply(lambda x: pad_float_fixed_length(x))\n",
    "\n",
    "small_train = small_train.sort_values(by=columns_to_match).reset_index(drop=True)\n",
    "\n",
    "train_key = small_train[columns_to_match].agg(''.join, axis=1)\n",
    "test_key = test[columns_to_match].agg(''.join, axis=1)"
   ]
  },
  {
   "cell_type": "code",
   "execution_count": 6,
   "id": "b714c61c",
   "metadata": {},
   "outputs": [],
   "source": [
    "def process_chunk(args):\n",
    "    test_chunk_key, test_chunk_ata = args\n",
    "    ci_hour_values_chunk = []\n",
    "\n",
    "    for key, ata in zip(test_chunk_key, test_chunk_ata):\n",
    "        index = bisect.bisect_left(train_key, key)\n",
    "        matches = []\n",
    "\n",
    "        while 0 <= index < len(train) and train_key.iloc[index] == key:\n",
    "            matches.append(small_train.iloc[index])\n",
    "            index += 1\n",
    "\n",
    "        if matches:\n",
    "            hours_deltas = [(row['Bert_time'] - ata) / pd.Timedelta('1 hour') for row in matches]\n",
    "            filtered_deltas = [delta for delta in hours_deltas if delta >= 0]  # 0 이상인 값만 추가\n",
    "            ci_hour_values_chunk.append(filtered_deltas if filtered_deltas else [-1])\n",
    "        else:\n",
    "            ci_hour_values_chunk.append([-1])\n",
    "\n",
    "    return ci_hour_values_chunk"
   ]
  },
  {
   "cell_type": "code",
   "execution_count": 7,
   "id": "216d0e0c",
   "metadata": {},
   "outputs": [],
   "source": [
    "# CPU의 코어 개수를 얻기\n",
    "num_cores = cpu_count()\n",
    "\n",
    "# 데이터를 코어 개수만큼 분할\n",
    "test_chunks_keys = np.array_split(test_key, num_cores)\n",
    "test_chunks_ata = np.array_split(test['ATA'], num_cores)\n",
    "\n",
    "# multiprocessing Pool을 사용하여 병렬 처리를 시작\n",
    "with Pool(num_cores) as pool:\n",
    "    results = pool.map(process_chunk, zip(test_chunks_keys, test_chunks_ata))"
   ]
  },
  {
   "cell_type": "code",
   "execution_count": 8,
   "id": "fb5eab2e",
   "metadata": {},
   "outputs": [],
   "source": [
    "ci_hour_values = [item for sublist in results for item in sublist]"
   ]
  },
  {
   "cell_type": "code",
   "execution_count": 9,
   "id": "f6eccb4f",
   "metadata": {},
   "outputs": [],
   "source": [
    "submit = pd.read_csv('./data/sample_submission.csv')\n",
    "submit['CI_HOUR'] = ci_hour_values\n",
    "submit.to_csv('./out_csvs/use_bertTime_and_get_CI_HOURS.csv', index=False)"
   ]
  }
 ],
 "metadata": {
  "kernelspec": {
   "display_name": "Python 3 (ipykernel)",
   "language": "python",
   "name": "python3"
  },
  "language_info": {
   "codemirror_mode": {
    "name": "ipython",
    "version": 3
   },
   "file_extension": ".py",
   "mimetype": "text/x-python",
   "name": "python",
   "nbconvert_exporter": "python",
   "pygments_lexer": "ipython3",
   "version": "3.8.10"
  }
 },
 "nbformat": 4,
 "nbformat_minor": 5
}
