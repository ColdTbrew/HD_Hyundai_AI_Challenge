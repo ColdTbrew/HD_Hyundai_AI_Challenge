{
 "cells": [
  {
   "cell_type": "markdown",
   "id": "59196ed1-c76f-42fb-877e-9e3f589d5d24",
   "metadata": {},
   "source": [
    "# 회귀모델에 Bert_time을 이용해 가능한 CI_HOUR 리스트를 만든 파일 적용하기"
   ]
  },
  {
   "cell_type": "markdown",
   "id": "56b23746-341e-4b44-8317-132f569c4ec4",
   "metadata": {},
   "source": [
    "## 가능한 CI_HOUR 리스트에서 회귀모델과 가장 가까운 값을 회귀모델과 비교하여 최종 CI_HOUR 1개로 결정한다"
   ]
  },
  {
   "cell_type": "code",
   "execution_count": 7,
   "id": "ad1cea2f-67d8-49c7-9f1c-3b27a7b533b4",
   "metadata": {},
   "outputs": [],
   "source": [
    "import warnings\n",
    "warnings.filterwarnings('ignore')\n",
    "import pandas as pd\n",
    "import numpy as np\n",
    "from tqdm import tqdm"
   ]
  },
  {
   "cell_type": "code",
   "execution_count": 14,
   "id": "e27c180e-f22e-4dca-b6a2-d0ddca8b22db",
   "metadata": {},
   "outputs": [
    {
     "name": "stderr",
     "output_type": "stream",
     "text": [
      "100%|███████████████████████████████████████████████████████████████████████████████████████████████| 220491/220491 [01:23<00:00, 2656.26it/s]\n"
     ]
    }
   ],
   "source": [
    "a = pd.read_csv('./out_csvs/use_bertTime_and_get_CI_HOURS.csv')\n",
    "b = pd.read_csv('./out_csvs/auto6.csv')\n",
    "\n",
    "# 문자열 형태의 리스트를 파이썬 리스트로 변환\n",
    "def convert_str_to_list(value):\n",
    "    try:\n",
    "        return eval(value)\n",
    "    except:\n",
    "        return [value]\n",
    "\n",
    "a['CI_HOUR'] = a['CI_HOUR'].apply(convert_str_to_list)\n",
    "\n",
    "for i in tqdm(range(len(b))):\n",
    "    current_a_value = a['CI_HOUR'].iloc[i]\n",
    "    current_b_value = b['CI_HOUR'].iloc[i]\n",
    "    \n",
    "    # a의 값이 -1일 경우 b의 값을 사용\n",
    "    if current_a_value == [-1]:\n",
    "        a['CI_HOUR'].iloc[i] = current_b_value\n",
    "    # a의 값이 리스트일 경우 b의 값과 가장 가까운 값을 선택\n",
    "    elif isinstance(current_a_value, list):\n",
    "        closest_value = min(current_a_value, key=lambda x: abs(x - current_b_value))\n",
    "        if abs(closest_value - current_b_value) > 71 * current_b_value: # 차이가 너무 클 경우 회귀모델 예측값 적용\n",
    "            a['CI_HOUR'].iloc[i] = current_b_value\n",
    "        elif closest_value > 2200: # cloest value가 2200을 넘을 경우 회귀모델 예측값을 적용\n",
    "            a['CI_HOUR'].iloc[i] = current_b_value\n",
    "        else:\n",
    "            a['CI_HOUR'].iloc[i] = closest_value # 나머지는 cloest value 적용\n",
    "\n",
    "# 최종결과를 저장\n",
    "a.to_csv('./out_csvs/final_auto06.csv', index=False)"
   ]
  }
 ],
 "metadata": {
  "kernelspec": {
   "display_name": "newenv",
   "language": "python",
   "name": "newenv"
  },
  "language_info": {
   "codemirror_mode": {
    "name": "ipython",
    "version": 3
   },
   "file_extension": ".py",
   "mimetype": "text/x-python",
   "name": "python",
   "nbconvert_exporter": "python",
   "pygments_lexer": "ipython3",
   "version": "3.10.13"
  }
 },
 "nbformat": 4,
 "nbformat_minor": 5
}
